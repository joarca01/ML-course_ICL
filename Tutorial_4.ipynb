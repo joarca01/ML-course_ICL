{
  "cells": [
    {
      "cell_type": "markdown",
      "metadata": {
        "id": "view-in-github",
        "colab_type": "text"
      },
      "source": [
        "<a href=\"https://colab.research.google.com/github/joarca01/ML-course_ICL/blob/main/Tutorial_4.ipynb\" target=\"_parent\"><img src=\"https://colab.research.google.com/assets/colab-badge.svg\" alt=\"Open In Colab\"/></a>"
      ]
    },
    {
      "cell_type": "markdown",
      "metadata": {
        "id": "BMGmz3Q-0sY_"
      },
      "source": [
        "# Goal of the tutorial\n",
        "\n",
        "*   Understand convolutional layers\n",
        "*   Implement a convolutional neural network using Pytorch\n",
        "*   Understand what a network learns through data reconstruction\n",
        "*   Understand residual blocks and implement a residual neural network (ResNet)"
      ]
    },
    {
      "cell_type": "markdown",
      "metadata": {
        "id": "2ffb8600"
      },
      "source": [
        "# Loading the libraries and dataset"
      ]
    },
    {
      "cell_type": "code",
      "execution_count": 1,
      "metadata": {
        "id": "f35648e3"
      },
      "outputs": [],
      "source": [
        "# Let's load the usual libraries\n",
        "import numpy as np\n",
        "import torch\n",
        "import torchvision\n",
        "import torchvision.transforms as transforms\n",
        "import matplotlib.pyplot as plt\n",
        "import torch.nn as nn\n",
        "import torch.nn.functional as F\n",
        "import torch.optim as optim"
      ]
    },
    {
      "cell_type": "markdown",
      "metadata": {
        "id": "XcsS0__P0whV"
      },
      "source": [
        "For this tutorial, we will use the CIFAR10 dataset. It has the classes: ‘airplane’, ‘automobile’, ‘bird’, ‘cat’, ‘deer’, ‘dog’, ‘frog’, ‘horse’, ‘ship’, ‘truck’. Each class is of size 6000. The images in CIFAR-10 are of size 3x32x32, i.e. 3-channel color images (red, green and blue) of 32x32 pixels in size. Let's load it."
      ]
    },
    {
      "cell_type": "code",
      "execution_count": 2,
      "metadata": {
        "colab": {
          "base_uri": "https://localhost:8080/"
        },
        "id": "0200f8ca",
        "outputId": "5b40d173-7278-42f9-84a5-6f5d3caa4dc5"
      },
      "outputs": [
        {
          "output_type": "stream",
          "name": "stderr",
          "text": [
            "100%|██████████| 170M/170M [00:08<00:00, 19.5MB/s]\n"
          ]
        }
      ],
      "source": [
        "transform = transforms.Compose(\n",
        "    [transforms.ToTensor(),\n",
        "     transforms.Normalize((0.5, 0.5, 0.5), (0.5, 0.5, 0.5))])\n",
        "\n",
        "batch_size = 128\n",
        "\n",
        "trainset = torchvision.datasets.CIFAR10(root='./data', train=True,\n",
        "                                        download=True, transform=transform)\n",
        "trainloader = torch.utils.data.DataLoader(trainset, batch_size=batch_size,\n",
        "                                          shuffle=True, num_workers=0)\n",
        "\n",
        "testset = torchvision.datasets.CIFAR10(root='./data', train=False,\n",
        "                                       download=True, transform=transform)\n",
        "testloader = torch.utils.data.DataLoader(testset, batch_size=batch_size,\n",
        "                                         shuffle=False, num_workers=0)\n",
        "\n",
        "classes = ('plane', 'car', 'bird', 'cat',\n",
        "           'deer', 'dog', 'frog', 'horse', 'ship', 'truck')"
      ]
    },
    {
      "cell_type": "markdown",
      "metadata": {
        "id": "q02iGheK-FDx"
      },
      "source": [
        "Let's visualise one of the images in the dataset."
      ]
    },
    {
      "cell_type": "code",
      "execution_count": 3,
      "metadata": {
        "colab": {
          "base_uri": "https://localhost:8080/",
          "height": 452
        },
        "id": "jUJ4MBFI8SKK",
        "outputId": "2bdc629b-467f-4539-b27d-6d0aa1324aae"
      },
      "outputs": [
        {
          "output_type": "display_data",
          "data": {
            "text/plain": [
              "<Figure size 640x480 with 1 Axes>"
            ],
            "image/png": "[encoded data removed]"
          },
          "metadata": {}
        }
      ],
      "source": [
        "# Get some random training images; this will load a set of images of size batchsize\n",
        "dataiter = iter(trainloader)\n",
        "images, labels = next(dataiter)\n",
        "img = images[0] # take just the first image; the above thing is an array of images of size batchsize\n",
        "img = img / 2 + 0.5     # unnormalize\n",
        "\n",
        "# Print the original image\n",
        "npimg = img.numpy() # translate to numpy\n",
        "npimg_t = np.transpose(npimg, (1, 2, 0))\n",
        "plt.imshow(npimg_t)\n",
        "plt.title(str(classes[labels[0]]))\n",
        "plt.show()"
      ]
    },
    {
      "cell_type": "markdown",
      "metadata": {
        "id": "0fec32da"
      },
      "source": [
        "# Implementing a Convolutional Neural Network"
      ]
    },
    {
      "cell_type": "markdown",
      "metadata": {
        "id": "CUMYKer21I1f"
      },
      "source": [
        "Let's begin by understanding convolutional layers, which perform transformations of our original images through local weighted averages.\n",
        "\n",
        "We will use the Pytorch conv2d function (https://pytorch.org/docs/stable/generated/torch.nn.Conv2d.html) to implement these. It has the following arguments:\n",
        "- in_channels: the number of channels of the input (e.g. a colored image has 3 channels for red, green and blue)\n",
        "- out_channels: the number of channels we want the output to have (i.e. how many times we apply different kernels)\n",
        "- kernel_size: the size of the filter\n",
        "- stride: number of rows/columns traversed every time the filter is applied\n",
        "- padding: size of extra pixels added at edge of image\n",
        "\n",
        "It has some other parameters of which we will use the default modes (and hence we don't specify them):\n",
        "bias = True, dilation = 1.\n",
        "\n",
        "If we have an input $I$ of size $[N, C_{in}, H, W]$, where $N$ is the number of images passed through the layer, $C_{in}$ is the number of channels each image has, and $H$ and $W$ are the height and width of the image, respectively.\n",
        "The output is then computed as,\n",
        "$$\n",
        "O[N_n, C_{out_j}, :, :] = b[C_{out_j}] + \\sum_{i=0}^{C_{in}-1} w[C_{out_j},i]*I[N_n, i, :, :].\n",
        "$$\n",
        "\n",
        "When implementing convolutional layers, it is useful to keep track of the size (height and width) of the images outputted in each layer. In the CIFAR10 dataset we use square images, so height=width.\n",
        "\n",
        "Let us define the following:\n",
        "\n",
        "\n",
        "*   $n_{in}$: height (or width) of input image\n",
        "*   $k$: size of kernel\n",
        "*   $p$: size of padding\n",
        "*   $s$: size of stride\n",
        "\n",
        "\n",
        "The height of the output image will be given by\n",
        "$$\n",
        "n_{out} = \\left \\lfloor \\frac{n_{in} + 2p - k}{s} \\right \\rfloor + 1,\n",
        "$$\n",
        "\n",
        "where $\\lfloor \\cdot \\rfloor$ is the floor function.\n",
        "\n",
        "In-between conv2d layers we can apply an activation function (e.g. ReLU), batchnorm and pooling layers. Pooling layers apply an operation within a window of pixels defined by a size and a stride.\n",
        "\n",
        "We can now define the structure of our convolutional neural network. The first part of the network will involve convolutional layers, and the second part will be made up of fully connected layers. Assume we have an input image $x$ of size $3 \\times 32 \\times 32$ (number of channels and image dimensions). We will use the following:\n",
        "1. The input goes into a convolutional layer (3 input channels, 6 output channels, kernel of size 5x5, stride 1, padding 1), followed by a ReLU activation and maxpool layer (size 2, stride 2)\n",
        "2. The output from the previous operation goes into another convolutional layer (6 input channels, 16 output channels, kernel of size 5x5, stride 2, padding 1) followed by ReLU\n",
        "3. Then add a flatten layer to flatten all dimensions except the first one: x = torch.flatten(x, 1)\n",
        "4. Then there will be two linear layers + ReLU's and a final linear layer.\n",
        "\n",
        "\n",
        "\n"
      ]
    },
    {
      "cell_type": "code",
      "execution_count": 4,
      "metadata": {
        "id": "rDB163jt1XfR"
      },
      "outputs": [],
      "source": [
        "class Net(nn.Module):\n",
        "    # in the init function we will just define several layers that we can later use\n",
        "    def __init__(self):\n",
        "        super().__init__()\n",
        "\n",
        "        self.conv1 = nn.Conv2d(in_channels=3, out_channels=6, kernel_size=5, stride=1, padding=1) # convolutional layer\n",
        "        # what is the size of the object after the above convolution? original image is 32x32; after convolution\n",
        "        # it will be floor((32 + 2*1 - 5)/1) + 1 = 30 -> 30x30\n",
        "\n",
        "        # a pooling layer: it 'pools' together 2x2 of the inputs by keeping only the maximum value\n",
        "        # and uses a stride of 2\n",
        "        self.pool = nn.MaxPool2d(2, stride=2)\n",
        "        # after pooling size is 15x15 (see: https://pytorch.org/docs/stable/generated/torch.nn.MaxPool2d.html)\n",
        "\n",
        "        self.conv2 = nn.Conv2d(in_channels=6, out_channels=16, kernel_size=5, stride=2, padding=1) # convolutional layer\n",
        "        # size after convolution: floor((15 + 2*1 - 5)/2) + 1 = 7 -> 7x7\n",
        "\n",
        "        self.fc1 = nn.Linear(16 * 7 * 7, 512)\n",
        "        self.fc2 = nn.Linear(512, 128)\n",
        "        self.fc3 = nn.Linear(128, 10)\n",
        "\n",
        "    # here we define the forward pass, i.e. how our input x is modified as it moves through the network\n",
        "    def forward(self, x):\n",
        "        x = self.pool(F.relu(self.conv1(x))) # size after operation: 15x15\n",
        "        '''Finish'''\n",
        "        return x\n",
        "\n",
        "net = Net()"
      ]
    },
    {
      "cell_type": "markdown",
      "metadata": {
        "id": "LrhLaaJNpVJd"
      },
      "source": [
        "Let's write a training function:"
      ]
    },
    {
      "cell_type": "code",
      "execution_count": 5,
      "metadata": {
        "id": "k9GyXliLpYLD"
      },
      "outputs": [],
      "source": [
        "def train(model, nr_epochs, optimizer, criterion):\n",
        "    losses = [] # store the losses\n",
        "\n",
        "    for epoch in range(0, nr_epochs):\n",
        "        print(f'Epoch {epoch}')\n",
        "        for i, data in enumerate(trainloader, 0):\n",
        "            # get the inputs; data is a list of [inputs, labels]\n",
        "            images, labels = data\n",
        "            # zero the parameter gradients\n",
        "            optimizer.zero_grad()\n",
        "            # Compute the output for all the images in the batch_size; remember we set a batch_size of 10 in the beginning!\n",
        "            outputs = model(images)\n",
        "            # Compute the loss value\n",
        "            loss = criterion(outputs, labels)\n",
        "            # Compute the gradients\n",
        "            loss.backward()\n",
        "            # Take the optimisation step\n",
        "            optimizer.step()\n",
        "\n",
        "            # print statistics\n",
        "            losses += [loss.item()]\n",
        "            if i % 100 == 0:    # print every 1000 iterations\n",
        "                print(i, loss.item())\n",
        "\n",
        "    print('Finished Training')"
      ]
    },
    {
      "cell_type": "code",
      "execution_count": null,
      "metadata": {
        "id": "xn1NOtb51hOY"
      },
      "outputs": [],
      "source": [
        "train(model=net, nr_epochs=20, optimizer=optim.SGD(net.parameters(), lr=0.01, momentum=0.9), criterion=nn.CrossEntropyLoss())"
      ]
    },
    {
      "cell_type": "markdown",
      "metadata": {
        "id": "7W4rg89wknhD"
      },
      "source": [
        "We can now evaluate the model on test data."
      ]
    },
    {
      "cell_type": "code",
      "execution_count": 6,
      "metadata": {
        "id": "UZK0ly3PtP99"
      },
      "outputs": [],
      "source": [
        "def accuracy(model):\n",
        "    correct = 0\n",
        "    total = 0\n",
        "    # since we're not training, we don't need to calculate the gradients for our outputs; therefore there\n",
        "    # is no need to store the computational graph in between\n",
        "    with torch.no_grad():\n",
        "        for data in testloader: #iterate over all the test images\n",
        "            images, labels = data\n",
        "            # calculate outputs by running images through the network\n",
        "            outputs = model(images)\n",
        "            # the class with the highest energy is what we choose as prediction\n",
        "            _, predicted = torch.max(outputs.data, 1)\n",
        "            # compute the total number of images processed by adding the number of images in each batch\n",
        "            total += labels.size(0)\n",
        "            correct += (predicted == labels).sum().item()\n",
        "\n",
        "    print(f'Accuracy of the network on the test images: {100 * correct // total} %')"
      ]
    },
    {
      "cell_type": "code",
      "execution_count": 7,
      "metadata": {
        "id": "P2LD-B3J1lFe",
        "colab": {
          "base_uri": "https://localhost:8080/",
          "height": 269
        },
        "outputId": "4cdde618-1ad9-4bef-e637-59cbf484188a"
      },
      "outputs": [
        {
          "output_type": "error",
          "ename": "RuntimeError",
          "evalue": "The size of tensor a (15) must match the size of tensor b (128) at non-singleton dimension 2",
          "traceback": [
            "\u001b[0;31m---------------------------------------------------------------------------\u001b[0m",
            "\u001b[0;31mRuntimeError\u001b[0m                              Traceback (most recent call last)",
            "\u001b[0;32m/tmp/ipython-input-497618452.py\u001b[0m in \u001b[0;36m<cell line: 0>\u001b[0;34m()\u001b[0m\n\u001b[0;32m----> 1\u001b[0;31m \u001b[0maccuracy\u001b[0m\u001b[0;34m(\u001b[0m\u001b[0mnet\u001b[0m\u001b[0;34m)\u001b[0m\u001b[0;34m\u001b[0m\u001b[0;34m\u001b[0m\u001b[0m\n\u001b[0m",
            "\u001b[0;32m/tmp/ipython-input-3454144266.py\u001b[0m in \u001b[0;36maccuracy\u001b[0;34m(model)\u001b[0m\n\u001b[1;32m     13\u001b[0m             \u001b[0;31m# compute the total number of images processed by adding the number of images in each batch\u001b[0m\u001b[0;34m\u001b[0m\u001b[0;34m\u001b[0m\u001b[0m\n\u001b[1;32m     14\u001b[0m             \u001b[0mtotal\u001b[0m \u001b[0;34m+=\u001b[0m \u001b[0mlabels\u001b[0m\u001b[0;34m.\u001b[0m\u001b[0msize\u001b[0m\u001b[0;34m(\u001b[0m\u001b[0;36m0\u001b[0m\u001b[0;34m)\u001b[0m\u001b[0;34m\u001b[0m\u001b[0;34m\u001b[0m\u001b[0m\n\u001b[0;32m---> 15\u001b[0;31m             \u001b[0mcorrect\u001b[0m \u001b[0;34m+=\u001b[0m \u001b[0;34m(\u001b[0m\u001b[0mpredicted\u001b[0m \u001b[0;34m==\u001b[0m \u001b[0mlabels\u001b[0m\u001b[0;34m)\u001b[0m\u001b[0;34m.\u001b[0m\u001b[0msum\u001b[0m\u001b[0;34m(\u001b[0m\u001b[0;34m)\u001b[0m\u001b[0;34m.\u001b[0m\u001b[0mitem\u001b[0m\u001b[0;34m(\u001b[0m\u001b[0;34m)\u001b[0m\u001b[0;34m\u001b[0m\u001b[0;34m\u001b[0m\u001b[0m\n\u001b[0m\u001b[1;32m     16\u001b[0m \u001b[0;34m\u001b[0m\u001b[0m\n\u001b[1;32m     17\u001b[0m     \u001b[0mprint\u001b[0m\u001b[0;34m(\u001b[0m\u001b[0;34mf'Accuracy of the network on the test images: {100 * correct // total} %'\u001b[0m\u001b[0;34m)\u001b[0m\u001b[0;34m\u001b[0m\u001b[0;34m\u001b[0m\u001b[0m\n",
            "\u001b[0;31mRuntimeError\u001b[0m: The size of tensor a (15) must match the size of tensor b (128) at non-singleton dimension 2"
          ]
        }
      ],
      "source": [
        "accuracy(net)"
      ]
    },
    {
      "cell_type": "markdown",
      "metadata": {
        "id": "TgDbosl6qkI0"
      },
      "source": [
        "# Task: implement your own Convolutional Neural Network\n",
        "\n",
        "Change the architecture, number of batches (we defined this when we loaded the data in one of the first cells) and number of epochs to see how this changes what the network has learned.\n",
        "\n",
        "Remember: machine learning is quite tricky with lots of hyperparameter tuning required. A large part of the job is trying to find the right combinations of parameters that work."
      ]
    },
    {
      "cell_type": "code",
      "execution_count": 9,
      "metadata": {
        "id": "TTFrjsxAteui"
      },
      "outputs": [],
      "source": [
        "class Net(nn.Module):\n",
        "    \"\"\" Write your own CNN architecture \"\"\"\n",
        "\n",
        "    # in the init function we will just define several layers that we can later use\n",
        "    def __init__(self):\n",
        "        super().__init__()\n",
        "\n",
        "        self.conv1 = nn.Conv2d(in_channels=3, out_channels=6, kernel_size=5, stride=1, padding=1) # convolutional layer\n",
        "        # what is the size of the object after the above convolution? original image is 32x32; after convolution\n",
        "        # it will be floor((32 + 2*1 - 5)/1) + 1 = 30 -> 30x30\n",
        "\n",
        "        # a pooling layer: it 'pools' together 2x2 of the inputs by keeping only the maximum value\n",
        "        # and uses a stride of 2\n",
        "        self.pool = nn.MaxPool2d(2, stride=2)\n",
        "        # after pooling size is 15x15 (see: https://pytorch.org/docs/stable/generated/torch.nn.MaxPool2d.html)\n",
        "\n",
        "        self.conv2 = nn.Conv2d(in_channels=6, out_channels=16, kernel_size=5, stride=2, padding=1) # convolutional layer\n",
        "        # size after convolution: floor((15 + 2*1 - 5)/2) + 1 = 7 -> 7x7\n",
        "\n",
        "        self.fc1 = nn.Linear(16 * 7 * 7, 512)\n",
        "        self.fc2 = nn.Linear(512, 128)\n",
        "        self.fc3 = nn.Linear(128, 10)\n",
        "\n",
        "    # here we define the forward pass, i.e. how our input x is modified as it moves through the network\n",
        "    def forward(self, x):\n",
        "        x = self.pool(F.relu(self.conv1(x))) # size after operation: 15x15\n",
        "        '''Finish'''\n",
        "        return x\n",
        "\n",
        "net = Net()"
      ]
    },
    {
      "cell_type": "markdown",
      "metadata": {
        "id": "bc94f610"
      },
      "source": [
        "# Understanding what our network has learned"
      ]
    },
    {
      "cell_type": "markdown",
      "metadata": {
        "id": "ZeW1gH-U9BwC"
      },
      "source": [
        "For this part, we will use the following larger model:"
      ]
    },
    {
      "cell_type": "code",
      "execution_count": 10,
      "metadata": {
        "id": "y5bLsFLl9I6B"
      },
      "outputs": [],
      "source": [
        "class Net(nn.Module):\n",
        "    # in the init function we will just define several layers that we can later use\n",
        "    def __init__(self):\n",
        "        super().__init__()\n",
        "        #parameters: in_channels, out_channels, kernel_size\n",
        "        self.conv1 = nn.Conv2d(3, 64, 3)\n",
        "        self.conv2 = nn.Conv2d(64, 128, 3)\n",
        "        self.conv3 = nn.Conv2d(128, 256, 3)\n",
        "        self.conv4 = nn.Conv2d(256, 256, 3)\n",
        "        self.pool = nn.MaxPool2d(2, stride=2)\n",
        "        self.fc1 = nn.Linear(1024, 120)\n",
        "        self.fc2 = nn.Linear(120, 84)\n",
        "        self.fc3 = nn.Linear(84, 10)\n",
        "\n",
        "    # here we define the forward pass, i.e. how our input x is modified as it moves through the network\n",
        "    def forward(self, x):\n",
        "        x = self.pool(F.relu(self.conv1(x)))\n",
        "        x = self.pool(F.relu(self.conv2(x)))\n",
        "        x = F.relu(self.conv3(x))\n",
        "        x = F.relu(self.conv4(x))\n",
        "        x = torch.flatten(x, 1)\n",
        "        x = F.relu(self.fc1(x))\n",
        "        x = F.relu(self.fc2(x))\n",
        "        x = self.fc3(x)\n",
        "        return x\n",
        "\n",
        "    # let's also define a method to access a layer of choice's output; we will use this later to perform the forward pass up to a certain layer for visualization (e.g. line 1-2 in the forward method)\n",
        "    def forward_partial(self, x):\n",
        "        '''Fill in'''\n",
        "        return x"
      ]
    },
    {
      "cell_type": "markdown",
      "metadata": {
        "id": "W-wUIQO-Q35Z"
      },
      "source": [
        "Let's train the model."
      ]
    },
    {
      "cell_type": "code",
      "execution_count": 11,
      "metadata": {
        "colab": {
          "base_uri": "https://localhost:8080/"
        },
        "id": "BgOWacMG9kkZ",
        "outputId": "f9b1688a-65fa-4d5f-864f-79de10859814"
      },
      "outputs": [
        {
          "output_type": "stream",
          "name": "stdout",
          "text": [
            "Epoch 0\n",
            "0 2.301109552383423\n",
            "100 2.308624029159546\n",
            "200 2.297975778579712\n",
            "300 2.2442798614501953\n",
            "Epoch 1\n",
            "0 1.9280025959014893\n",
            "100 1.7310004234313965\n",
            "200 1.567863941192627\n",
            "300 1.5658446550369263\n",
            "Epoch 2\n",
            "0 1.5410046577453613\n",
            "100 1.496544361114502\n",
            "200 1.3937658071517944\n",
            "300 1.5249311923980713\n",
            "Epoch 3\n",
            "0 1.2127786874771118\n",
            "100 1.4256267547607422\n",
            "200 1.2893810272216797\n",
            "300 1.2039676904678345\n",
            "Epoch 4\n",
            "0 0.9661027789115906\n",
            "100 1.076302409172058\n",
            "200 1.173989176750183\n",
            "300 1.1181620359420776\n",
            "Finished Training\n"
          ]
        }
      ],
      "source": [
        "net = Net()\n",
        "train(model=net, nr_epochs=5, optimizer=optim.SGD(net.parameters(), lr=0.01, momentum=0.9), criterion=nn.CrossEntropyLoss())"
      ]
    },
    {
      "cell_type": "code",
      "execution_count": 12,
      "metadata": {
        "colab": {
          "base_uri": "https://localhost:8080/"
        },
        "id": "_rNs48GRBJJk",
        "outputId": "0d13c750-affd-41ee-bc2d-77c78ee51405"
      },
      "outputs": [
        {
          "output_type": "stream",
          "name": "stdout",
          "text": [
            "Accuracy of the network on the test images: 64 %\n"
          ]
        }
      ],
      "source": [
        "accuracy(net)"
      ]
    },
    {
      "cell_type": "markdown",
      "metadata": {
        "id": "abec05a6"
      },
      "source": [
        "Now, we would like to understand what the network has actually learned. The work in: https://ai.googleblog.com/2015/06/inceptionism-going-deeper-into-neural.html does something similar, so check it out if you're interested.\n",
        "\n",
        "Consider that we pass a certain image $\\tilde{x}$ through the network and get the output $z^n$ from the neural network.\n",
        "\n",
        "Based on that output we would like to reconstruct the input to better understand how well our neural network has learned the original image. Denote with $\\hat z^n$ the output from the same layer for some input $x$.\n",
        "\n",
        "Consider then the squared error loss\n",
        "$$\n",
        "\\mathcal{L}(z^n, \\hat z^n) = ||z^n-\\hat z^n||_2^2,\n",
        "$$\n",
        "\n",
        "We will give the network a certain input image $\\tilde x$ and obtain the layer values for that image $z^n$. We assume we only observe $z^n$, but want to *reconstruct* $\\tilde x$. To do that we will optimise over the $x$ that gets us as close as possible to that layer output:\n",
        "$$\n",
        "x^* = \\arg\\min_{x} \\mathcal{L}(z^n, \\hat z^n).\n",
        "$$\n",
        "\n",
        "We will further follow the work of https://arxiv.org/pdf/1412.0035v1.pdf\n",
        "\n",
        "It can be useful to restrict the reconstruction to the subset of natural images - in order to make the above reconstruction better (and easier to interpret). In order to do so, we need to define the properties that natural images have. A proxy used in the above paper is to incorporate in the reconstruction an appropriate image prior. As in the paper, we will try two things:\n",
        "\n",
        "1. the $\\alpha$-norm: $R(x) = ||x||_{\\alpha}^{\\alpha}$ where $x$ is the vectorised and meansubtracted image. With this regularisation we force the image values to stay within a certain range.\n",
        "\n",
        "2. the total variation encouraging images to consist of piece-wise constant patches: $R(x) = \\sum_{i,j} \\left((x_{i,j+1}-x_{ij})^2 + (x_{i+1,j}-x_{ij})^2\\right)^{\\frac{\\beta}{2}}$ where $x\\in\\mathbb{R}^{H\\times W}$ with $H$ the height and $W$ the width.\n",
        "\n",
        "We will add the above terms as regularisers to our loss function."
      ]
    },
    {
      "cell_type": "code",
      "execution_count": 13,
      "metadata": {
        "id": "645a029f"
      },
      "outputs": [],
      "source": [
        "# Define our new criteria:\n",
        "def R_1(img, alpha):\n",
        "    img = torch.flatten(img)\n",
        "    R1 = torch.linalg.norm(img, ord=alpha)\n",
        "    return R1\n",
        "\n",
        "def R_2(img, beta):\n",
        "    R2 = torch.sum(torch.pow(torch.flatten(torch.pow(img[:,:,:,1:] - img[:,:,:,:-1], 2)) \\\n",
        "                                + torch.flatten(torch.pow(img[:,:,1:,:] - img[:,:,:-1,:], 2)), beta/2))\n",
        "    return R2\n",
        "\n",
        "# Load a new batch of data\n",
        "dataiter = iter(trainloader)"
      ]
    },
    {
      "cell_type": "markdown",
      "metadata": {
        "id": "e3e44171"
      },
      "source": [
        "Let us now implement the optimisation scheme. We will begin by initialising a random image, then minimising the loss criterion that we discussed above."
      ]
    },
    {
      "cell_type": "code",
      "execution_count": 14,
      "metadata": {
        "id": "OiHJFMA17zRp",
        "colab": {
          "base_uri": "https://localhost:8080/",
          "height": 1000
        },
        "outputId": "4ae4baab-843c-4a30-99c9-90d63e0f103c"
      },
      "outputs": [
        {
          "output_type": "display_data",
          "data": {
            "text/plain": [
              "<Figure size 640x480 with 1 Axes>"
            ],
            "image/png": "[encoded data removed]"
          },
          "metadata": {}
        },
        {
          "output_type": "stream",
          "name": "stdout",
          "text": [
            "3166.1826171875\n",
            "407.7789306640625\n",
            "2742.56640625\n",
            "472.29681396484375\n",
            "2661.51171875\n",
            "543.6793823242188\n",
            "2587.844482421875\n",
            "709.35791015625\n",
            "2458.468505859375\n",
            "760.00146484375\n",
            "2399.5751953125\n",
            "819.0775756835938\n",
            "2345.907958984375\n",
            "858.2740478515625\n",
            "2355.485107421875\n",
            "838.1521606445312\n",
            "2337.407470703125\n",
            "836.4387817382812\n",
            "2336.132568359375\n",
            "942.9072875976562\n"
          ]
        },
        {
          "output_type": "display_data",
          "data": {
            "text/plain": [
              "<Figure size 640x480 with 1 Axes>"
            ],
            "image/png": "[encoded data removed]"
          },
          "metadata": {}
        }
      ],
      "source": [
        "# Get some image\n",
        "images, labels = next(dataiter)\n",
        "img = images[0] # take just the first image; the above thing is an array of images of size batchsize\n",
        "img = img / 2 + 0.5     # unnormalize\n",
        "\n",
        "# Print the original image\n",
        "npimg = img.numpy() # translate to numpy\n",
        "npimg_t = np.transpose(npimg, (1, 2, 0)) # transpose things\n",
        "plt.imshow(npimg_t)\n",
        "plt.title(str(classes[labels[0]]))\n",
        "plt.show()\n",
        "\n",
        "# Pass the image through the network and get the layer output\n",
        "true_out = net.forward_partial(images[0:1,:,:,:])\n",
        "\n",
        "# Optimise the output from the layer for some random input to get close to the output for the original image\n",
        "sample_image = torch.rand(1, 3, 32, 32)\n",
        "sample_image.requires_grad = True\n",
        "nr_its_in = 100000\n",
        "lr = 0.0001\n",
        "for it in range(nr_its_in):\n",
        "    sample_out = net.forward_partial(sample_image)\n",
        "    sample_loss = torch.sum(torch.pow(true_out.detach() - sample_out, 2)) \\\n",
        "            + 0.05 * R_1(sample_image, 6) + 0.1 * R_2(sample_image, beta=2)\n",
        "    sample_loss.backward()\n",
        "    # Perform the gradient step to improve the sample_image\n",
        "    with torch.no_grad():\n",
        "        sample_image -= lr*sample_image.grad #+ 0.001*torch.rand(sample_image.shape)\n",
        "    if it%5000==0:\n",
        "        print(sample_loss.item())\n",
        "\n",
        "# Print reconstructed image\n",
        "numpy_image = sample_image.detach().numpy()\n",
        "# Constrain to the right range\n",
        "numpy_image += np.abs(numpy_image.min())\n",
        "numpy_image /= numpy_image.max()\n",
        "numpy_image = np.transpose(numpy_image[0,:,:,:], (1, 2, 0))\n",
        "plt.imshow(numpy_image)\n",
        "plt.title(classes[labels[0]])\n",
        "plt.show()"
      ]
    },
    {
      "cell_type": "markdown",
      "metadata": {
        "id": "7c74dbc8"
      },
      "source": [
        "Run the above code multiple times - for certain images the reconstruction works better than for others.\n",
        "\n",
        "## Task:\n",
        "Try to change the layer whose output we use. You can do this by modifying the forward_partial function we defined in the neural network class. Are any particular layers better at reconstructing the image?\n",
        "\n",
        "Also try to add or remove the noise - is there any difference in training with noise? Try also changing the parameters to see if you can find a configuration which obtains better results than what I managed to obtain.\n",
        "\n",
        "What do you think of the above? We can in general reconstruct something even with our relatively simple model (compared to the architectures Google and so on use). What if the input image contained sensitive information? Can you think that the above is a privacy or security risk?"
      ]
    },
    {
      "cell_type": "markdown",
      "metadata": {
        "id": "fC1vRy8410sV"
      },
      "source": [
        "# ResNet\n",
        "\n",
        "Let's now try to code a different model. We will follow the architecture of ResNet (see https://arxiv.org/pdf/1512.03385.pdf), which has had a significant impact on the architectures we use in many models due to introducing the idea of skip connections.\n",
        "\n",
        "ResNet is divided into building blocks called Residual blocks, which are made up of convolutional layers. Let $F$ define a non-linear mapping (such as a sequence of convolutional layers, activation functions, etc.). CNNs such as the previous one we coded would typically model the output of a collection of convolutional layers as\n",
        "$$\n",
        "x_{l+1} = F(x_l).\n",
        "$$\n",
        "ResNet adds the input to the output of the block, so that\n",
        "$$\n",
        "x_{l+1} = x_l + F(x_l).\n",
        "$$\n",
        "This identity addition is what we call a **skip connection**. Note that it does not add computational complexity to $F$. When we apply backpropagation on the Residual block, we obtain\n",
        "$$\n",
        "\\frac{\\partial x_{l+1}}{\\partial x_l} = I + \\frac{\\partial F}{\\partial x_l},\n",
        "$$\n",
        "where $I$ is the identity matrix, instead of\n",
        "$$\n",
        "\\frac{\\partial x_{l+1}}{\\partial x_l} = \\frac{\\partial F}{\\partial x_l}.\n",
        "$$\n",
        "\n"
      ]
    },
    {
      "cell_type": "markdown",
      "metadata": {
        "id": "KmBytbPF33zl"
      },
      "source": [
        "##Residual Blocks\n",
        "\n",
        "Let's begin by coding a residual block. Let $x$ be the input to the residual block. The structure of the residual blocks will be:\n",
        "\n",
        " input -> convolutional layer 1 -> batchnorm -> ReLU -> convolutional layer 2 -> batchnorm + input -> ReLU.\n",
        "\n",
        "Before applying the ReLU activation function after the second convolutional layer, we add the input of the block to the output (we call this the residual). **The parameters of the residual blocks are defined in order to either preserve or decrease the dimensions (height and width) of the input.** If the dimensions are preserved, then we can simply add the input at the end of the residual block, if the dimensions are decreased, we also downsample the input so that the dimensions match.\n",
        "\n",
        "Parameters:\n",
        "*   in_channels: number of input channels into residual block\n",
        "*   out_channels: number of output channels out of residual block\n",
        "*   stride: size of stride of **first convolutional layer** (this layer will determine if the output of the residual block has the same dimensionality or different to the input)\n",
        "*   reduce_dim: this is a boolean to define if we want to reduce the dimensionality of the input or not. If so, we will apply a 1x1 convolution with stride 2"
      ]
    },
    {
      "cell_type": "code",
      "execution_count": 15,
      "metadata": {
        "id": "TDBt_rzn1_w6"
      },
      "outputs": [],
      "source": [
        "class ResidualBlock(nn.Module):\n",
        "    def __init__(self, in_channels, out_channels, stride=1, reduce_dim=False):\n",
        "        super(ResidualBlock, self).__init__()\n",
        "        self.conv1 = nn.Conv2d(in_channels, out_channels, kernel_size = 3, stride = stride, padding = 1) # first convolutional layer\n",
        "        # size after convolution: n_out = floor((n_in + 2*1 - 3)/stride) + 1\n",
        "        # check that when stride=1 n_out = n_in, when stride=2 n_out = floor((n_in - 1)/2) + 1\n",
        "\n",
        "        self.conv2 = nn.Conv2d(out_channels, out_channels, kernel_size = 3, stride = 1, padding = 1) # second convolutional layer\n",
        "        # size after convolution: n_out = floor((n_in + 2*1 - 3)/1) + 1 = n_in so size is preserved\n",
        "\n",
        "        self.reduce_dim = reduce_dim\n",
        "        self.downsample = nn.Conv2d(in_channels, out_channels, kernel_size = 1, stride = 2, padding = 0) # convolutional layer to reduce dimensionality of the input\n",
        "        # size after convolution: n_out = floor((n_in - 1)/2) + 1\n",
        "        # this is the same dimensionality as what we obtain after applying conv1 with stride=2 followed by conv2\n",
        "\n",
        "        self.bn1 = nn.BatchNorm2d(out_channels)\n",
        "        self.bn2 = nn.BatchNorm2d(out_channels)\n",
        "        self.relu = nn.ReLU()\n",
        "        self.out_channels = out_channels\n",
        "\n",
        "    def forward(self, x):\n",
        "        '''Fill in'''\n",
        "        return out"
      ]
    },
    {
      "cell_type": "markdown",
      "metadata": {
        "id": "1XuZSBgMFJJj"
      },
      "source": [
        "## Architecture\n",
        "\n",
        "The ResNet architecture consists of input convolutional layers, groups of Residual Blocks and some output linear layers.\n",
        "\n",
        "Input layers -> Residual blocks -> Output layers\n",
        "\n",
        "Of all the Residual Blocks, only some of them will reduce the dimensionality of the input. For example, if ResNet has [3, 3, 3] blocks, then we have 3 times a group of 3 blocks. **Dimensionality reduction will occur in the first residual block of each group, excluding the first group.** In the case of [3, 3, 3] dimensionality reduction occurs in the fourth and seventh residual blocks. ResNets are usually implemented with more residual blocks (that shows a better performance), however we will code a smaller version with the structure [3, 3, 3].\n",
        "\n",
        "Structure of input layers:\n",
        "\n",
        "1.   Convolutional layer (3 input channels, 32 output channels, kernel of size 7x7, stride 2, padding 3), followed by batchnorm and a ReLU activation\n",
        "2.   Maxpool (kernel of size 3x3, stride 2, padding 1)\n",
        "\n",
        "Structure of output layers:\n",
        "\n",
        "1.   Averagepool (kernel of size 2x2, , stride 1, padding 0)\n",
        "2.   Linear layer\n",
        "\n",
        "We will use the function _make_group to add the groups of residual blocks described above."
      ]
    },
    {
      "cell_type": "code",
      "execution_count": 16,
      "metadata": {
        "id": "iEtswIC6u5ya"
      },
      "outputs": [],
      "source": [
        "class ResNet(nn.Module):\n",
        "    def __init__(self, block, groups, num_classes = 10):\n",
        "        super(ResNet, self).__init__()\n",
        "\n",
        "        self.conv1 = nn.Conv2d(in_channels=3, out_channels=32, kernel_size=7, stride=2, padding=3)\n",
        "        self.bn = nn.BatchNorm2d(32)\n",
        "        self.relu = nn.ReLU()\n",
        "        self.maxpool = nn.MaxPool2d(kernel_size = 3, stride = 2, padding = 1)\n",
        "\n",
        "        self.inplanes = 32 # define the number of channels of the input of the first residual block (this will be updated as the residual blocks are added to the network)\n",
        "\n",
        "        # groups of residual blocks\n",
        "        self.group0 = self._make_group(block, 32, groups[0], stride = 1)\n",
        "        self.group1 = self._make_group(block, 64, groups[1], stride = 2)\n",
        "        self.group2 = self._make_group(block, 128, groups[2], stride = 2)\n",
        "\n",
        "        self.avgpool = nn.AvgPool2d(2, stride=1)\n",
        "        self.fc = nn.Linear(128, num_classes)\n",
        "\n",
        "    def _make_group(self, block, planes, blocks, stride=1):\n",
        "        '''\n",
        "        block: residual block used in model\n",
        "        planes: int, number of channels the output of group should have\n",
        "        stride: int, size of stride of first convolutional layer of first residual block in group\n",
        "        '''\n",
        "        reduce_dim=False\n",
        "\n",
        "        # first residual block in group\n",
        "        if stride != 1 or self.inplanes != planes: # we reduce dimensionality when stride=2 or if the input and output channels into the residual block do not match\n",
        "            reduce_dim=True\n",
        "        group = []\n",
        "        group.append(block(self.inplanes, planes, stride, reduce_dim)) # add residual block to list\n",
        "        self.inplanes = planes # update number of channels of input to next residual block (according to output of current residual block)\n",
        "\n",
        "        # remaining residual blocks in group\n",
        "        for i in range(1, blocks):\n",
        "            group.append(block(self.inplanes, planes))\n",
        "\n",
        "        return nn.Sequential(*group)\n",
        "\n",
        "\n",
        "    def forward(self, x):\n",
        "        # input layers\n",
        "        x = self.relu(self.bn(self.conv1(x)))\n",
        "        x = self.maxpool(x)\n",
        "\n",
        "        # groups of residual blocks\n",
        "        x = self.group0(x)\n",
        "        x = self.group1(x)\n",
        "        x = self.group2(x)\n",
        "\n",
        "        # output layers\n",
        "        x = self.avgpool(x)\n",
        "        x = x.view(x.size(0), -1) # flatten all dimensions except batch\n",
        "        x = self.fc(x)\n",
        "\n",
        "        return x"
      ]
    },
    {
      "cell_type": "markdown",
      "metadata": {
        "id": "8VzB06TU_8qA"
      },
      "source": [
        "Let's train the model. You can also compare different architectures (instead of [3, 3, 3]) to see what produces the best accuracy."
      ]
    },
    {
      "cell_type": "code",
      "execution_count": 17,
      "metadata": {
        "id": "U6YwUeB52akB",
        "colab": {
          "base_uri": "https://localhost:8080/",
          "height": 293
        },
        "outputId": "7ac37fd5-25ad-4c64-d6d2-d337c6eda4fa"
      },
      "outputs": [
        {
          "output_type": "stream",
          "name": "stdout",
          "text": [
            "Epoch 0\n"
          ]
        },
        {
          "output_type": "error",
          "ename": "NameError",
          "evalue": "name 'out' is not defined",
          "traceback": [
            "\u001b[0;31m---------------------------------------------------------------------------\u001b[0m",
            "\u001b[0;31mNameError\u001b[0m                                 Traceback (most recent call last)",
            "\u001b[0;32m/tmp/ipython-input-3631117283.py\u001b[0m in \u001b[0;36m<cell line: 0>\u001b[0;34m()\u001b[0m\n\u001b[1;32m      1\u001b[0m \u001b[0mresnet\u001b[0m \u001b[0;34m=\u001b[0m \u001b[0mResNet\u001b[0m\u001b[0;34m(\u001b[0m\u001b[0mblock\u001b[0m\u001b[0;34m=\u001b[0m\u001b[0mResidualBlock\u001b[0m\u001b[0;34m,\u001b[0m \u001b[0mgroups\u001b[0m\u001b[0;34m=\u001b[0m\u001b[0;34m[\u001b[0m\u001b[0;36m3\u001b[0m\u001b[0;34m,\u001b[0m \u001b[0;36m3\u001b[0m\u001b[0;34m,\u001b[0m \u001b[0;36m3\u001b[0m\u001b[0;34m]\u001b[0m\u001b[0;34m)\u001b[0m \u001b[0;31m# total number of residual blocks is 9\u001b[0m\u001b[0;34m\u001b[0m\u001b[0;34m\u001b[0m\u001b[0m\n\u001b[0;32m----> 2\u001b[0;31m \u001b[0mtrain\u001b[0m\u001b[0;34m(\u001b[0m\u001b[0mmodel\u001b[0m\u001b[0;34m=\u001b[0m\u001b[0mresnet\u001b[0m\u001b[0;34m.\u001b[0m\u001b[0mtrain\u001b[0m\u001b[0;34m(\u001b[0m\u001b[0;34m)\u001b[0m\u001b[0;34m,\u001b[0m \u001b[0mnr_epochs\u001b[0m\u001b[0;34m=\u001b[0m\u001b[0;36m15\u001b[0m\u001b[0;34m,\u001b[0m \u001b[0moptimizer\u001b[0m\u001b[0;34m=\u001b[0m\u001b[0moptim\u001b[0m\u001b[0;34m.\u001b[0m\u001b[0mSGD\u001b[0m\u001b[0;34m(\u001b[0m\u001b[0mresnet\u001b[0m\u001b[0;34m.\u001b[0m\u001b[0mparameters\u001b[0m\u001b[0;34m(\u001b[0m\u001b[0;34m)\u001b[0m\u001b[0;34m,\u001b[0m \u001b[0mlr\u001b[0m\u001b[0;34m=\u001b[0m\u001b[0;36m0.01\u001b[0m\u001b[0;34m,\u001b[0m \u001b[0mmomentum\u001b[0m \u001b[0;34m=\u001b[0m \u001b[0;36m0.9\u001b[0m\u001b[0;34m)\u001b[0m\u001b[0;34m,\u001b[0m \u001b[0mcriterion\u001b[0m\u001b[0;34m=\u001b[0m\u001b[0mnn\u001b[0m\u001b[0;34m.\u001b[0m\u001b[0mCrossEntropyLoss\u001b[0m\u001b[0;34m(\u001b[0m\u001b[0;34m)\u001b[0m\u001b[0;34m)\u001b[0m\u001b[0;34m\u001b[0m\u001b[0;34m\u001b[0m\u001b[0m\n\u001b[0m",
            "\u001b[0;32m/tmp/ipython-input-4214890740.py\u001b[0m in \u001b[0;36mtrain\u001b[0;34m(model, nr_epochs, optimizer, criterion)\u001b[0m\n\u001b[1;32m     10\u001b[0m             \u001b[0moptimizer\u001b[0m\u001b[0;34m.\u001b[0m\u001b[0mzero_grad\u001b[0m\u001b[0;34m(\u001b[0m\u001b[0;34m)\u001b[0m\u001b[0;34m\u001b[0m\u001b[0;34m\u001b[0m\u001b[0m\n\u001b[1;32m     11\u001b[0m             \u001b[0;31m# Compute the output for all the images in the batch_size; remember we set a batch_size of 10 in the beginning!\u001b[0m\u001b[0;34m\u001b[0m\u001b[0;34m\u001b[0m\u001b[0m\n\u001b[0;32m---> 12\u001b[0;31m             \u001b[0moutputs\u001b[0m \u001b[0;34m=\u001b[0m \u001b[0mmodel\u001b[0m\u001b[0;34m(\u001b[0m\u001b[0mimages\u001b[0m\u001b[0;34m)\u001b[0m\u001b[0;34m\u001b[0m\u001b[0;34m\u001b[0m\u001b[0m\n\u001b[0m\u001b[1;32m     13\u001b[0m             \u001b[0;31m# Compute the loss value\u001b[0m\u001b[0;34m\u001b[0m\u001b[0;34m\u001b[0m\u001b[0m\n\u001b[1;32m     14\u001b[0m             \u001b[0mloss\u001b[0m \u001b[0;34m=\u001b[0m \u001b[0mcriterion\u001b[0m\u001b[0;34m(\u001b[0m\u001b[0moutputs\u001b[0m\u001b[0;34m,\u001b[0m \u001b[0mlabels\u001b[0m\u001b[0;34m)\u001b[0m\u001b[0;34m\u001b[0m\u001b[0;34m\u001b[0m\u001b[0m\n",
            "\u001b[0;32m/usr/local/lib/python3.12/dist-packages/torch/nn/modules/module.py\u001b[0m in \u001b[0;36m_wrapped_call_impl\u001b[0;34m(self, *args, **kwargs)\u001b[0m\n\u001b[1;32m   1771\u001b[0m             \u001b[0;32mreturn\u001b[0m \u001b[0mself\u001b[0m\u001b[0;34m.\u001b[0m\u001b[0m_compiled_call_impl\u001b[0m\u001b[0;34m(\u001b[0m\u001b[0;34m*\u001b[0m\u001b[0margs\u001b[0m\u001b[0;34m,\u001b[0m \u001b[0;34m**\u001b[0m\u001b[0mkwargs\u001b[0m\u001b[0;34m)\u001b[0m  \u001b[0;31m# type: ignore[misc]\u001b[0m\u001b[0;34m\u001b[0m\u001b[0;34m\u001b[0m\u001b[0m\n\u001b[1;32m   1772\u001b[0m         \u001b[0;32melse\u001b[0m\u001b[0;34m:\u001b[0m\u001b[0;34m\u001b[0m\u001b[0;34m\u001b[0m\u001b[0m\n\u001b[0;32m-> 1773\u001b[0;31m             \u001b[0;32mreturn\u001b[0m \u001b[0mself\u001b[0m\u001b[0;34m.\u001b[0m\u001b[0m_call_impl\u001b[0m\u001b[0;34m(\u001b[0m\u001b[0;34m*\u001b[0m\u001b[0margs\u001b[0m\u001b[0;34m,\u001b[0m \u001b[0;34m**\u001b[0m\u001b[0mkwargs\u001b[0m\u001b[0;34m)\u001b[0m\u001b[0;34m\u001b[0m\u001b[0;34m\u001b[0m\u001b[0m\n\u001b[0m\u001b[1;32m   1774\u001b[0m \u001b[0;34m\u001b[0m\u001b[0m\n\u001b[1;32m   1775\u001b[0m     \u001b[0;31m# torchrec tests the code consistency with the following code\u001b[0m\u001b[0;34m\u001b[0m\u001b[0;34m\u001b[0m\u001b[0m\n",
            "\u001b[0;32m/usr/local/lib/python3.12/dist-packages/torch/nn/modules/module.py\u001b[0m in \u001b[0;36m_call_impl\u001b[0;34m(self, *args, **kwargs)\u001b[0m\n\u001b[1;32m   1782\u001b[0m                 \u001b[0;32mor\u001b[0m \u001b[0m_global_backward_pre_hooks\u001b[0m \u001b[0;32mor\u001b[0m \u001b[0m_global_backward_hooks\u001b[0m\u001b[0;34m\u001b[0m\u001b[0;34m\u001b[0m\u001b[0m\n\u001b[1;32m   1783\u001b[0m                 or _global_forward_hooks or _global_forward_pre_hooks):\n\u001b[0;32m-> 1784\u001b[0;31m             \u001b[0;32mreturn\u001b[0m \u001b[0mforward_call\u001b[0m\u001b[0;34m(\u001b[0m\u001b[0;34m*\u001b[0m\u001b[0margs\u001b[0m\u001b[0;34m,\u001b[0m \u001b[0;34m**\u001b[0m\u001b[0mkwargs\u001b[0m\u001b[0;34m)\u001b[0m\u001b[0;34m\u001b[0m\u001b[0;34m\u001b[0m\u001b[0m\n\u001b[0m\u001b[1;32m   1785\u001b[0m \u001b[0;34m\u001b[0m\u001b[0m\n\u001b[1;32m   1786\u001b[0m         \u001b[0mresult\u001b[0m \u001b[0;34m=\u001b[0m \u001b[0;32mNone\u001b[0m\u001b[0;34m\u001b[0m\u001b[0;34m\u001b[0m\u001b[0m\n",
            "\u001b[0;32m/tmp/ipython-input-655478100.py\u001b[0m in \u001b[0;36mforward\u001b[0;34m(self, x)\u001b[0m\n\u001b[1;32m     46\u001b[0m \u001b[0;34m\u001b[0m\u001b[0m\n\u001b[1;32m     47\u001b[0m         \u001b[0;31m# groups of residual blocks\u001b[0m\u001b[0;34m\u001b[0m\u001b[0;34m\u001b[0m\u001b[0m\n\u001b[0;32m---> 48\u001b[0;31m         \u001b[0mx\u001b[0m \u001b[0;34m=\u001b[0m \u001b[0mself\u001b[0m\u001b[0;34m.\u001b[0m\u001b[0mgroup0\u001b[0m\u001b[0;34m(\u001b[0m\u001b[0mx\u001b[0m\u001b[0;34m)\u001b[0m\u001b[0;34m\u001b[0m\u001b[0;34m\u001b[0m\u001b[0m\n\u001b[0m\u001b[1;32m     49\u001b[0m         \u001b[0mx\u001b[0m \u001b[0;34m=\u001b[0m \u001b[0mself\u001b[0m\u001b[0;34m.\u001b[0m\u001b[0mgroup1\u001b[0m\u001b[0;34m(\u001b[0m\u001b[0mx\u001b[0m\u001b[0;34m)\u001b[0m\u001b[0;34m\u001b[0m\u001b[0;34m\u001b[0m\u001b[0m\n\u001b[1;32m     50\u001b[0m         \u001b[0mx\u001b[0m \u001b[0;34m=\u001b[0m \u001b[0mself\u001b[0m\u001b[0;34m.\u001b[0m\u001b[0mgroup2\u001b[0m\u001b[0;34m(\u001b[0m\u001b[0mx\u001b[0m\u001b[0;34m)\u001b[0m\u001b[0;34m\u001b[0m\u001b[0;34m\u001b[0m\u001b[0m\n",
            "\u001b[0;32m/usr/local/lib/python3.12/dist-packages/torch/nn/modules/module.py\u001b[0m in \u001b[0;36m_wrapped_call_impl\u001b[0;34m(self, *args, **kwargs)\u001b[0m\n\u001b[1;32m   1771\u001b[0m             \u001b[0;32mreturn\u001b[0m \u001b[0mself\u001b[0m\u001b[0;34m.\u001b[0m\u001b[0m_compiled_call_impl\u001b[0m\u001b[0;34m(\u001b[0m\u001b[0;34m*\u001b[0m\u001b[0margs\u001b[0m\u001b[0;34m,\u001b[0m \u001b[0;34m**\u001b[0m\u001b[0mkwargs\u001b[0m\u001b[0;34m)\u001b[0m  \u001b[0;31m# type: ignore[misc]\u001b[0m\u001b[0;34m\u001b[0m\u001b[0;34m\u001b[0m\u001b[0m\n\u001b[1;32m   1772\u001b[0m         \u001b[0;32melse\u001b[0m\u001b[0;34m:\u001b[0m\u001b[0;34m\u001b[0m\u001b[0;34m\u001b[0m\u001b[0m\n\u001b[0;32m-> 1773\u001b[0;31m             \u001b[0;32mreturn\u001b[0m \u001b[0mself\u001b[0m\u001b[0;34m.\u001b[0m\u001b[0m_call_impl\u001b[0m\u001b[0;34m(\u001b[0m\u001b[0;34m*\u001b[0m\u001b[0margs\u001b[0m\u001b[0;34m,\u001b[0m \u001b[0;34m**\u001b[0m\u001b[0mkwargs\u001b[0m\u001b[0;34m)\u001b[0m\u001b[0;34m\u001b[0m\u001b[0;34m\u001b[0m\u001b[0m\n\u001b[0m\u001b[1;32m   1774\u001b[0m \u001b[0;34m\u001b[0m\u001b[0m\n\u001b[1;32m   1775\u001b[0m     \u001b[0;31m# torchrec tests the code consistency with the following code\u001b[0m\u001b[0;34m\u001b[0m\u001b[0;34m\u001b[0m\u001b[0m\n",
            "\u001b[0;32m/usr/local/lib/python3.12/dist-packages/torch/nn/modules/module.py\u001b[0m in \u001b[0;36m_call_impl\u001b[0;34m(self, *args, **kwargs)\u001b[0m\n\u001b[1;32m   1782\u001b[0m                 \u001b[0;32mor\u001b[0m \u001b[0m_global_backward_pre_hooks\u001b[0m \u001b[0;32mor\u001b[0m \u001b[0m_global_backward_hooks\u001b[0m\u001b[0;34m\u001b[0m\u001b[0;34m\u001b[0m\u001b[0m\n\u001b[1;32m   1783\u001b[0m                 or _global_forward_hooks or _global_forward_pre_hooks):\n\u001b[0;32m-> 1784\u001b[0;31m             \u001b[0;32mreturn\u001b[0m \u001b[0mforward_call\u001b[0m\u001b[0;34m(\u001b[0m\u001b[0;34m*\u001b[0m\u001b[0margs\u001b[0m\u001b[0;34m,\u001b[0m \u001b[0;34m**\u001b[0m\u001b[0mkwargs\u001b[0m\u001b[0;34m)\u001b[0m\u001b[0;34m\u001b[0m\u001b[0;34m\u001b[0m\u001b[0m\n\u001b[0m\u001b[1;32m   1785\u001b[0m \u001b[0;34m\u001b[0m\u001b[0m\n\u001b[1;32m   1786\u001b[0m         \u001b[0mresult\u001b[0m \u001b[0;34m=\u001b[0m \u001b[0;32mNone\u001b[0m\u001b[0;34m\u001b[0m\u001b[0;34m\u001b[0m\u001b[0m\n",
            "\u001b[0;32m/usr/local/lib/python3.12/dist-packages/torch/nn/modules/container.py\u001b[0m in \u001b[0;36mforward\u001b[0;34m(self, input)\u001b[0m\n\u001b[1;32m    242\u001b[0m     \u001b[0;32mdef\u001b[0m \u001b[0mforward\u001b[0m\u001b[0;34m(\u001b[0m\u001b[0mself\u001b[0m\u001b[0;34m,\u001b[0m \u001b[0minput\u001b[0m\u001b[0;34m)\u001b[0m\u001b[0;34m:\u001b[0m\u001b[0;34m\u001b[0m\u001b[0;34m\u001b[0m\u001b[0m\n\u001b[1;32m    243\u001b[0m         \u001b[0;32mfor\u001b[0m \u001b[0mmodule\u001b[0m \u001b[0;32min\u001b[0m \u001b[0mself\u001b[0m\u001b[0;34m:\u001b[0m\u001b[0;34m\u001b[0m\u001b[0;34m\u001b[0m\u001b[0m\n\u001b[0;32m--> 244\u001b[0;31m             \u001b[0minput\u001b[0m \u001b[0;34m=\u001b[0m \u001b[0mmodule\u001b[0m\u001b[0;34m(\u001b[0m\u001b[0minput\u001b[0m\u001b[0;34m)\u001b[0m\u001b[0;34m\u001b[0m\u001b[0;34m\u001b[0m\u001b[0m\n\u001b[0m\u001b[1;32m    245\u001b[0m         \u001b[0;32mreturn\u001b[0m \u001b[0minput\u001b[0m\u001b[0;34m\u001b[0m\u001b[0;34m\u001b[0m\u001b[0m\n\u001b[1;32m    246\u001b[0m \u001b[0;34m\u001b[0m\u001b[0m\n",
            "\u001b[0;32m/usr/local/lib/python3.12/dist-packages/torch/nn/modules/module.py\u001b[0m in \u001b[0;36m_wrapped_call_impl\u001b[0;34m(self, *args, **kwargs)\u001b[0m\n\u001b[1;32m   1771\u001b[0m             \u001b[0;32mreturn\u001b[0m \u001b[0mself\u001b[0m\u001b[0;34m.\u001b[0m\u001b[0m_compiled_call_impl\u001b[0m\u001b[0;34m(\u001b[0m\u001b[0;34m*\u001b[0m\u001b[0margs\u001b[0m\u001b[0;34m,\u001b[0m \u001b[0;34m**\u001b[0m\u001b[0mkwargs\u001b[0m\u001b[0;34m)\u001b[0m  \u001b[0;31m# type: ignore[misc]\u001b[0m\u001b[0;34m\u001b[0m\u001b[0;34m\u001b[0m\u001b[0m\n\u001b[1;32m   1772\u001b[0m         \u001b[0;32melse\u001b[0m\u001b[0;34m:\u001b[0m\u001b[0;34m\u001b[0m\u001b[0;34m\u001b[0m\u001b[0m\n\u001b[0;32m-> 1773\u001b[0;31m             \u001b[0;32mreturn\u001b[0m \u001b[0mself\u001b[0m\u001b[0;34m.\u001b[0m\u001b[0m_call_impl\u001b[0m\u001b[0;34m(\u001b[0m\u001b[0;34m*\u001b[0m\u001b[0margs\u001b[0m\u001b[0;34m,\u001b[0m \u001b[0;34m**\u001b[0m\u001b[0mkwargs\u001b[0m\u001b[0;34m)\u001b[0m\u001b[0;34m\u001b[0m\u001b[0;34m\u001b[0m\u001b[0m\n\u001b[0m\u001b[1;32m   1774\u001b[0m \u001b[0;34m\u001b[0m\u001b[0m\n\u001b[1;32m   1775\u001b[0m     \u001b[0;31m# torchrec tests the code consistency with the following code\u001b[0m\u001b[0;34m\u001b[0m\u001b[0;34m\u001b[0m\u001b[0m\n",
            "\u001b[0;32m/usr/local/lib/python3.12/dist-packages/torch/nn/modules/module.py\u001b[0m in \u001b[0;36m_call_impl\u001b[0;34m(self, *args, **kwargs)\u001b[0m\n\u001b[1;32m   1782\u001b[0m                 \u001b[0;32mor\u001b[0m \u001b[0m_global_backward_pre_hooks\u001b[0m \u001b[0;32mor\u001b[0m \u001b[0m_global_backward_hooks\u001b[0m\u001b[0;34m\u001b[0m\u001b[0;34m\u001b[0m\u001b[0m\n\u001b[1;32m   1783\u001b[0m                 or _global_forward_hooks or _global_forward_pre_hooks):\n\u001b[0;32m-> 1784\u001b[0;31m             \u001b[0;32mreturn\u001b[0m \u001b[0mforward_call\u001b[0m\u001b[0;34m(\u001b[0m\u001b[0;34m*\u001b[0m\u001b[0margs\u001b[0m\u001b[0;34m,\u001b[0m \u001b[0;34m**\u001b[0m\u001b[0mkwargs\u001b[0m\u001b[0;34m)\u001b[0m\u001b[0;34m\u001b[0m\u001b[0;34m\u001b[0m\u001b[0m\n\u001b[0m\u001b[1;32m   1785\u001b[0m \u001b[0;34m\u001b[0m\u001b[0m\n\u001b[1;32m   1786\u001b[0m         \u001b[0mresult\u001b[0m \u001b[0;34m=\u001b[0m \u001b[0;32mNone\u001b[0m\u001b[0;34m\u001b[0m\u001b[0;34m\u001b[0m\u001b[0m\n",
            "\u001b[0;32m/tmp/ipython-input-2520862965.py\u001b[0m in \u001b[0;36mforward\u001b[0;34m(self, x)\u001b[0m\n\u001b[1;32m     21\u001b[0m     \u001b[0;32mdef\u001b[0m \u001b[0mforward\u001b[0m\u001b[0;34m(\u001b[0m\u001b[0mself\u001b[0m\u001b[0;34m,\u001b[0m \u001b[0mx\u001b[0m\u001b[0;34m)\u001b[0m\u001b[0;34m:\u001b[0m\u001b[0;34m\u001b[0m\u001b[0;34m\u001b[0m\u001b[0m\n\u001b[1;32m     22\u001b[0m         \u001b[0;34m'''Fill in'''\u001b[0m\u001b[0;34m\u001b[0m\u001b[0;34m\u001b[0m\u001b[0m\n\u001b[0;32m---> 23\u001b[0;31m         \u001b[0;32mreturn\u001b[0m \u001b[0mout\u001b[0m\u001b[0;34m\u001b[0m\u001b[0;34m\u001b[0m\u001b[0m\n\u001b[0m",
            "\u001b[0;31mNameError\u001b[0m: name 'out' is not defined"
          ]
        }
      ],
      "source": [
        "resnet = ResNet(block=ResidualBlock, groups=[3, 3, 3]) # total number of residual blocks is 9\n",
        "train(model=resnet.train(), nr_epochs=15, optimizer=optim.SGD(resnet.parameters(), lr=0.01, momentum = 0.9), criterion=nn.CrossEntropyLoss())"
      ]
    },
    {
      "cell_type": "markdown",
      "metadata": {
        "id": "AULFeQN_A4R5"
      },
      "source": [
        "Let's evaluate the ResNet on the test set. We can compare the performance to the previous CNN we coded."
      ]
    },
    {
      "cell_type": "code",
      "execution_count": null,
      "metadata": {
        "id": "CuDYubul2fRJ"
      },
      "outputs": [],
      "source": [
        "accuracy(resnet.eval())"
      ]
    },
    {
      "cell_type": "markdown",
      "metadata": {
        "id": "3M7JiLpzEMzV"
      },
      "source": [
        "# Task: implement Pre-Activation Residual Blocks\n",
        "\n",
        "One of the variants of ResNet involves using Residual Blocks with a different architecture. Let's look at Pre-Activation Residual Blocks. In the original model, the activation function (in our case the ReLU function) is applied after the skip connection. In the pre-activation variant, the batchnorm and ReLU function are applied **at the beginning of the residual block**:\n",
        "\n",
        "input -> batchnorm -> ReLU -> convolutional layer 1 -> batchnorm -> ReLU -> convolutional layer 2 + input\n",
        "\n",
        "Note that the input layers of ResNet will have to be modified: the batchnorm and ReLU in the input layers will have to be removed in order to not be applied twice."
      ]
    },
    {
      "cell_type": "code",
      "execution_count": null,
      "metadata": {
        "id": "PkyhcHfWLb0n"
      },
      "outputs": [],
      "source": [
        "class PreActivationResidualBlock(nn.Module):\n",
        "    '''Fill in'''"
      ]
    },
    {
      "cell_type": "code",
      "execution_count": null,
      "metadata": {
        "id": "uL7l3OXTLoBw"
      },
      "outputs": [],
      "source": [
        "pre_act_resnet = ResNet(block=PreActivationResidualBlock, groups=[3, 3, 3])\n",
        "train(model=pre_act_resnet.train(), nr_epochs=15, optimizer=optim.SGD(pre_act_resnet.parameters(), lr=0.01, momentum = 0.9), criterion=nn.CrossEntropyLoss())"
      ]
    },
    {
      "cell_type": "code",
      "execution_count": null,
      "metadata": {
        "id": "5_Lq8kVlL-eZ"
      },
      "outputs": [],
      "source": [
        "accuracy(pre_act_resnet.eval())"
      ]
    },
    {
      "cell_type": "markdown",
      "metadata": {
        "id": "M1_qlA_PQk-x"
      },
      "source": [
        "The Pre-activation ResNet has been shown to perform better than the original ResNet for very deep networks. Is the same true in our shallow setting?\n",
        "\n",
        "Feel free to experiment with other structures of residual blocks (see Figure 4 in https://arxiv.org/pdf/1603.05027.pdf)."
      ]
    },
    {
      "cell_type": "markdown",
      "metadata": {
        "id": "iQjnLorgZ80R"
      },
      "source": [
        "# References\n",
        "\n",
        "\n",
        "\n",
        "*   Aravindh Mahendran and Andrea Vedaldi (2014). Understanding deep image representations by inverting them. Arxiv: https://arxiv.org/abs/1412.0035\n",
        "*   Kaiming He, Xiangyu Zhang, Shaoqing Ren and Jian SunDeep (2015). Residual Learning for Image Recognition. Arxiv: https://arxiv.org/pdf/1512.03385.pdf\n",
        "*   Kaiming He, Xiangyu Zhang, Shaoqing Ren, and Jian Sun (2016). Identity Mappings in Deep Residual Networks. Arxiv: https://arxiv.org/pdf/1603.05027.pdf\n",
        "*   https://blog.paperspace.com/writing-resnet-from-scratch-in-pytorch/\n",
        "*   https://uvadlc-notebooks.readthedocs.io/en/latest/tutorial_notebooks/tutorial5/Inception_ResNet_DenseNet.html#ResNet\n",
        "\n"
      ]
    }
  ],
  "metadata": {
    "colab": {
      "provenance": [],
      "toc_visible": true,
      "gpuType": "T4",
      "include_colab_link": true
    },
    "kernelspec": {
      "display_name": "Python 3",
      "name": "python3"
    },
    "language_info": {
      "codemirror_mode": {
        "name": "ipython",
        "version": 3
      },
      "file_extension": ".py",
      "mimetype": "text/x-python",
      "name": "python",
      "nbconvert_exporter": "python",
      "pygments_lexer": "ipython3",
      "version": "3.12.7"
    },
    "accelerator": "GPU"
  },
  "nbformat": 4,
  "nbformat_minor": 0
}